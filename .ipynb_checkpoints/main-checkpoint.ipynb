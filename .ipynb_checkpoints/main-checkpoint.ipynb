{
 "cells": [
  {
   "cell_type": "code",
   "execution_count": 1,
   "metadata": {},
   "outputs": [],
   "source": [
    "import pandas as pd\n",
    "import numpy as np\n",
    "import matplotlib.pyplot as plt\n",
    "import seaborn as sns"
   ]
  },
  {
   "cell_type": "code",
   "execution_count": 2,
   "metadata": {},
   "outputs": [
    {
     "data": {
      "text/html": [
       "<div>\n",
       "<style scoped>\n",
       "    .dataframe tbody tr th:only-of-type {\n",
       "        vertical-align: middle;\n",
       "    }\n",
       "\n",
       "    .dataframe tbody tr th {\n",
       "        vertical-align: top;\n",
       "    }\n",
       "\n",
       "    .dataframe thead th {\n",
       "        text-align: right;\n",
       "    }\n",
       "</style>\n",
       "<table border=\"1\" class=\"dataframe\">\n",
       "  <thead>\n",
       "    <tr style=\"text-align: right;\">\n",
       "      <th></th>\n",
       "      <th>Name position</th>\n",
       "      <th>Exp required</th>\n",
       "      <th>Appliance date</th>\n",
       "      <th>Appliance day</th>\n",
       "      <th>Appliance way</th>\n",
       "      <th>Appliance way comments</th>\n",
       "      <th>Response date</th>\n",
       "      <th>Response day</th>\n",
       "      <th>Call/Interview</th>\n",
       "      <th>Second interview</th>\n",
       "      <th>Technical interview</th>\n",
       "      <th>Technical assignment</th>\n",
       "      <th>Job Offer</th>\n",
       "      <th>Salary</th>\n",
       "    </tr>\n",
       "  </thead>\n",
       "  <tbody>\n",
       "    <tr>\n",
       "      <th>0</th>\n",
       "      <td>Data Analyst</td>\n",
       "      <td>1-3 years</td>\n",
       "      <td>2020-11-25</td>\n",
       "      <td>Wednesday</td>\n",
       "      <td>Job application</td>\n",
       "      <td>Linkedin</td>\n",
       "      <td>2020-12-07</td>\n",
       "      <td>Monday</td>\n",
       "      <td>NaT</td>\n",
       "      <td>NaT</td>\n",
       "      <td>NaT</td>\n",
       "      <td>NaT</td>\n",
       "      <td>NaT</td>\n",
       "      <td>NaN</td>\n",
       "    </tr>\n",
       "    <tr>\n",
       "      <th>1</th>\n",
       "      <td>Junior Data Engineer</td>\n",
       "      <td>0 years</td>\n",
       "      <td>2020-12-01</td>\n",
       "      <td>Tuesday</td>\n",
       "      <td>DM to recrutier</td>\n",
       "      <td>Linkedin network</td>\n",
       "      <td>2020-12-02</td>\n",
       "      <td>Wednesday</td>\n",
       "      <td>NaT</td>\n",
       "      <td>NaT</td>\n",
       "      <td>NaT</td>\n",
       "      <td>NaT</td>\n",
       "      <td>NaT</td>\n",
       "      <td>NaN</td>\n",
       "    </tr>\n",
       "    <tr>\n",
       "      <th>2</th>\n",
       "      <td>Junior Data Engineer</td>\n",
       "      <td>0 years</td>\n",
       "      <td>2020-12-02</td>\n",
       "      <td>Wednesday</td>\n",
       "      <td>Linkedin appliance</td>\n",
       "      <td>Linkedin network</td>\n",
       "      <td>NaT</td>\n",
       "      <td>NaN</td>\n",
       "      <td>NaT</td>\n",
       "      <td>NaT</td>\n",
       "      <td>NaT</td>\n",
       "      <td>NaT</td>\n",
       "      <td>NaT</td>\n",
       "      <td>NaN</td>\n",
       "    </tr>\n",
       "    <tr>\n",
       "      <th>3</th>\n",
       "      <td>Data Analyst</td>\n",
       "      <td>3-5 years</td>\n",
       "      <td>2020-12-02</td>\n",
       "      <td>Wednesday</td>\n",
       "      <td>Job application</td>\n",
       "      <td>Linkedin</td>\n",
       "      <td>2020-12-04</td>\n",
       "      <td>Friday</td>\n",
       "      <td>NaT</td>\n",
       "      <td>NaT</td>\n",
       "      <td>NaT</td>\n",
       "      <td>NaT</td>\n",
       "      <td>NaT</td>\n",
       "      <td>NaN</td>\n",
       "    </tr>\n",
       "    <tr>\n",
       "      <th>4</th>\n",
       "      <td>Business Analyst</td>\n",
       "      <td>NaN</td>\n",
       "      <td>2020-12-01</td>\n",
       "      <td>Tuesday</td>\n",
       "      <td>Was contacted</td>\n",
       "      <td>Linkedin</td>\n",
       "      <td>2020-12-03</td>\n",
       "      <td>Thursday</td>\n",
       "      <td>2020-12-15</td>\n",
       "      <td>2020-12-22</td>\n",
       "      <td>NaT</td>\n",
       "      <td>NaT</td>\n",
       "      <td>2020-12-23</td>\n",
       "      <td>49896.0</td>\n",
       "    </tr>\n",
       "  </tbody>\n",
       "</table>\n",
       "</div>"
      ],
      "text/plain": [
       "          Name position Exp required Appliance date Appliance day  \\\n",
       "0          Data Analyst    1-3 years     2020-11-25     Wednesday   \n",
       "1  Junior Data Engineer      0 years     2020-12-01       Tuesday   \n",
       "2  Junior Data Engineer      0 years     2020-12-02     Wednesday   \n",
       "3          Data Analyst    3-5 years     2020-12-02     Wednesday   \n",
       "4      Business Analyst          NaN     2020-12-01       Tuesday   \n",
       "\n",
       "        Appliance way Appliance way comments Response date Response day  \\\n",
       "0     Job application               Linkedin    2020-12-07       Monday   \n",
       "1     DM to recrutier       Linkedin network    2020-12-02    Wednesday   \n",
       "2  Linkedin appliance       Linkedin network           NaT          NaN   \n",
       "3     Job application               Linkedin    2020-12-04       Friday   \n",
       "4       Was contacted               Linkedin    2020-12-03     Thursday   \n",
       "\n",
       "  Call/Interview Second interview Technical interview Technical assignment  \\\n",
       "0            NaT              NaT                 NaT                  NaT   \n",
       "1            NaT              NaT                 NaT                  NaT   \n",
       "2            NaT              NaT                 NaT                  NaT   \n",
       "3            NaT              NaT                 NaT                  NaT   \n",
       "4     2020-12-15       2020-12-22                 NaT                  NaT   \n",
       "\n",
       "   Job Offer   Salary  \n",
       "0        NaT      NaN  \n",
       "1        NaT      NaN  \n",
       "2        NaT      NaN  \n",
       "3        NaT      NaN  \n",
       "4 2020-12-23  49896.0  "
      ]
     },
     "execution_count": 2,
     "metadata": {},
     "output_type": "execute_result"
    }
   ],
   "source": [
    "df = pd.read_excel('.//raw_data//Job_hunting_stats.xlsx', skiprows=4, usecols=\"A:P\")\n",
    "df.drop(['Link', 'Name company'], axis=1, inplace=True)\n",
    "df.head()"
   ]
  },
  {
   "cell_type": "code",
   "execution_count": 3,
   "metadata": {},
   "outputs": [
    {
     "name": "stdout",
     "output_type": "stream",
     "text": [
      "<class 'pandas.core.frame.DataFrame'>\n",
      "RangeIndex: 96 entries, 0 to 95\n",
      "Data columns (total 14 columns):\n",
      " #   Column                  Non-Null Count  Dtype         \n",
      "---  ------                  --------------  -----         \n",
      " 0   Name position           96 non-null     object        \n",
      " 1   Exp required            92 non-null     object        \n",
      " 2   Appliance date          96 non-null     datetime64[ns]\n",
      " 3   Appliance day           96 non-null     object        \n",
      " 4   Appliance way           96 non-null     object        \n",
      " 5   Appliance way comments  96 non-null     object        \n",
      " 6   Response date           58 non-null     datetime64[ns]\n",
      " 7   Response day            58 non-null     object        \n",
      " 8   Call/Interview          10 non-null     datetime64[ns]\n",
      " 9   Second interview        6 non-null      datetime64[ns]\n",
      " 10  Technical interview     1 non-null      datetime64[ns]\n",
      " 11  Technical assignment    3 non-null      datetime64[ns]\n",
      " 12  Job Offer               2 non-null      datetime64[ns]\n",
      " 13  Salary                  2 non-null      float64       \n",
      "dtypes: datetime64[ns](7), float64(1), object(6)\n",
      "memory usage: 10.6+ KB\n"
     ]
    }
   ],
   "source": [
    "df.info()"
   ]
  },
  {
   "cell_type": "code",
   "execution_count": 4,
   "metadata": {},
   "outputs": [],
   "source": [
    "df.to_csv('.//clean_data//job_hunt_stat.csv')"
   ]
  },
  {
   "cell_type": "code",
   "execution_count": 5,
   "metadata": {},
   "outputs": [],
   "source": [
    "df = pd.read_csv('.//clean_data//job_hunt_stat.csv')"
   ]
  },
  {
   "cell_type": "code",
   "execution_count": 6,
   "metadata": {},
   "outputs": [
    {
     "data": {
      "image/png": "[encoded data removed]",
      "text/plain": [
       "<Figure size 360x360 with 1 Axes>"
      ]
     },
     "metadata": {
      "needs_background": "light"
     },
     "output_type": "display_data"
    }
   ],
   "source": [
    "sns.displot(df, x='Appliance day', shrink=.8)\n",
    "plt.title('Appliances by day of the week')\n",
    "plt.show()"
   ]
  },
  {
   "cell_type": "code",
   "execution_count": 7,
   "metadata": {},
   "outputs": [],
   "source": [
    "df_resp = df[df['Response day'].notnull()].drop('Unnamed: 0', axis=1)"
   ]
  },
  {
   "cell_type": "code",
   "execution_count": 8,
   "metadata": {},
   "outputs": [
    {
     "name": "stdout",
     "output_type": "stream",
     "text": [
      "Ratio of appliances sent on Wednesday is 57%.\n",
      "Ratio of appliances sent on Tuesday is 31%.\n",
      "Ratio of appliances sent on Sunday is 2%.\n",
      "Ratio of appliances sent on Monday is 53%.\n",
      "Ratio of appliances sent on Thursday is 17%.\n",
      "Ratio of appliances sent on Friday is 5%.\n"
     ]
    }
   ],
   "source": [
    "for i in df['Appliance day'].unique():\n",
    "    n = df.loc[df['Appliance day'] == i]['Appliance day'].count()/df_resp['Appliance day'].count()*100\n",
    "    print(f'Ratio of appliances sent on {i} is {int(round(n))}%.')"
   ]
  },
  {
   "cell_type": "code",
   "execution_count": 9,
   "metadata": {},
   "outputs": [
    {
     "data": {
      "image/png": "[encoded data removed]",
      "text/plain": [
       "<Figure size 360x360 with 1 Axes>"
      ]
     },
     "metadata": {
      "needs_background": "light"
     },
     "output_type": "display_data"
    }
   ],
   "source": [
    "sns.displot(df_resp, x='Response day', shrink=.8)\n",
    "plt.title('Responses by day of the week')\n",
    "plt.show()"
   ]
  },
  {
   "cell_type": "code",
   "execution_count": 10,
   "metadata": {},
   "outputs": [
    {
     "name": "stdout",
     "output_type": "stream",
     "text": [
      "Ratio of responces received on Monday is 24%.\n",
      "Ratio of responces received on Wednesday is 19%.\n",
      "Ratio of responces received on Friday is 12%.\n",
      "Ratio of responces received on Thursday is 19%.\n",
      "Ratio of responces received on Tuesday is 26%.\n"
     ]
    }
   ],
   "source": [
    "for i in df_resp['Response day'].unique():\n",
    "    n = df_resp.loc[df_resp['Response day'] == i]['Response day'].count()/df_resp['Response day'].count()*100\n",
    "    print(f'Ratio of responces received on {i} is {int(round(n))}%.')"
   ]
  },
  {
   "cell_type": "code",
   "execution_count": 15,
   "metadata": {},
   "outputs": [
    {
     "data": {
      "text/plain": [
       "10.416666666666668"
      ]
     },
     "execution_count": 15,
     "metadata": {},
     "output_type": "execute_result"
    }
   ],
   "source": [
    "df[df['Call/Interview'].notnull()].drop('Unnamed: 0', axis=1)['Call/Interview'].count()/df['Appliance day'].count()*100"
   ]
  },
  {
   "cell_type": "code",
   "execution_count": 12,
   "metadata": {},
   "outputs": [
    {
     "data": {
      "text/plain": [
       "58"
      ]
     },
     "execution_count": 12,
     "metadata": {},
     "output_type": "execute_result"
    }
   ],
   "source": [
    "df_resp['Response day'].count()"
   ]
  },
  {
   "cell_type": "code",
   "execution_count": null,
   "metadata": {},
   "outputs": [],
   "source": []
  }
 ],
 "metadata": {
  "kernelspec": {
   "display_name": "Python 3",
   "language": "python",
   "name": "python3"
  },
  "language_info": {
   "codemirror_mode": {
    "name": "ipython",
    "version": 3
   },
   "file_extension": ".py",
   "mimetype": "text/x-python",
   "name": "python",
   "nbconvert_exporter": "python",
   "pygments_lexer": "ipython3",
   "version": "3.8.3"
  }
 },
 "nbformat": 4,
 "nbformat_minor": 4
}
